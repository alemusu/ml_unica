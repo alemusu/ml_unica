{
  "nbformat": 4,
  "nbformat_minor": 0,
  "metadata": {
    "colab": {
      "provenance": [],
      "include_colab_link": true
    },
    "kernelspec": {
      "name": "python3",
      "display_name": "Python 3"
    }
  },
  "cells": [
    {
      "cell_type": "markdown",
      "metadata": {
        "id": "view-in-github",
        "colab_type": "text"
      },
      "source": [
        "<a href=\"https://colab.research.google.com/github/unica-ml/ml/blob/master/notebooks/gauss_clf_exercise_with2d_error.ipynb\" target=\"_parent\"><img src=\"https://colab.research.google.com/assets/colab-badge.svg\" alt=\"Open In Colab\"/></a>"
      ]
    },
    {
      "cell_type": "markdown",
      "metadata": {
        "id": "QOV6jy_KP9Kd"
      },
      "source": [
        "## Gaussian Classifier: Bonus Exercise\n",
        "\n",
        "Consider a Gaussian classifier, which makes decisions as:\n",
        "\n",
        "$y_k^\\star = \\arg\\max_{y_k} p(y_k | x ) = \\frac{p(x|y_k) p_k}{p(x)},$\n",
        "\n",
        "being $p_k$ the prior probability of class $y_k$, while the likelihood $p(x | y_k)$ is estimated as:\n",
        "\n",
        "$$p(x | y_k) = \\mathrm{g}(x ; \\mu_k, \\Sigma_k)=\\frac{1}{\\sqrt{(2 \\pi)^{d} \\operatorname{det} \\Sigma_k}} \\exp \\left(-\\frac{1}{2}(x-\\mu_k)^{T} \\Sigma_k^{-1}(x-\\mu_k)\\right).$$\n",
        "\n",
        "Recall that the evidence $p(x)$ can be computed by marginalizing over the labels, as $p(x) = \\sum_k p(x | y_k) p_k$.  \n",
        "\n",
        "The implementation is given below. The script computes the probability of error (numerical estimate) when considering two Gaussian classes having $\\mu_1=(-1 0)$ and $\\mu_2 = (1, 0)$, and covariance matrix equal to the identity matrix.\n",
        "\n",
        "**Goal.** Your goal is to compute the probability of error analytically, i.e., computing the decision regions and then integrating the joint probability of each class within the wrong decision region."
      ]
    },
    {
      "cell_type": "code",
      "metadata": {
        "id": "tvrENSmsOSFC"
      },
      "source": [
        "import numpy as np\n",
        "from scipy.stats import multivariate_normal as mvn\n",
        "\n",
        "\n",
        "class CClassifierGaussian:\n",
        "    \"\"\"\n",
        "    Class implementing a Gaussian classifier\n",
        "    \"\"\"\n",
        "\n",
        "    def __init__(self, posterior=True):\n",
        "        self._centroids = None\n",
        "        self._covariances = None\n",
        "        self._priors = None\n",
        "        # if True, return posterior probabilities; otherwise returns joint probs\n",
        "        self._posterior = posterior\n",
        "        return\n",
        "\n",
        "\n",
        "    @property\n",
        "    def posterior(self):\n",
        "        return self._posterior\n",
        "\n",
        "    @posterior.setter\n",
        "    def posterior(self, value):\n",
        "        self._posterior = bool(value)\n",
        "\n",
        "    @property\n",
        "    def centroids(self):\n",
        "        return self._centroids\n",
        "\n",
        "    @centroids.setter\n",
        "    def centroids(self, centroids):\n",
        "        \"\"\"Set centroids (if not estimated from training data).\"\"\"\n",
        "        self._centroids = np.array(centroids)\n",
        "\n",
        "    @property\n",
        "    def covariances(self):\n",
        "        return self._covariances\n",
        "\n",
        "    @covariances.setter\n",
        "    def covariances(self, covariances):\n",
        "        \"\"\"Set covariances (if not estimated from training data).\"\"\"\n",
        "        self._covariances = np.array(covariances)\n",
        "\n",
        "    @property\n",
        "    def priors(self):\n",
        "        return self._priors\n",
        "\n",
        "    @priors.setter\n",
        "    def priors(self, priors):\n",
        "        \"\"\"Set priors (if not estimated from training data).\"\"\"\n",
        "        self._priors = np.array(priors)\n",
        "\n",
        "    def fit(self, x, y):\n",
        "        \"\"\"Estimate priors, centroids and covariances with\n",
        "        maximum likelihood estimates from the training data x,y.\n",
        "        \"\"\"\n",
        "        n_classes = np.unique(y).size\n",
        "        n_features = x.shape[1]\n",
        "\n",
        "        self._priors = np.zeros(shape=(n_classes,))\n",
        "        self._centroids = np.zeros(shape=(n_classes, n_features))\n",
        "        self._covariances = np.zeros(shape=(n_classes, n_features, n_features))\n",
        "\n",
        "        for k in range(n_classes):\n",
        "            self._centroids[k, :] = x[y == k, :].mean(axis=0)\n",
        "            self._priors[k] = (y == k).mean()\n",
        "            self._covariances[k, :, :] = np.cov(x[y==k, :].T)\n",
        "\n",
        "        self._priors /= self._priors.sum()  # ensure priors sum up to 1\n",
        "        return self\n",
        "\n",
        "    def decision_function(self, x):\n",
        "        \"\"\"Return posterior or joint probability estimates for each class,\n",
        "        depending on whether posterior=True or False.\n",
        "        \"\"\"\n",
        "        n_samples = x.shape[0]\n",
        "        n_classes = self._centroids.shape[0]\n",
        "        scores = np.zeros(shape=(n_samples, n_classes))\n",
        "        for k in range(n_classes):\n",
        "            likelihood_k = mvn.pdf(\n",
        "                x, mean=self._centroids[k, :], cov=self._covariances[k, :, :])\n",
        "            scores[:, k] = self._priors[k] * likelihood_k  # joint probability\n",
        "\n",
        "        if self.posterior:\n",
        "            # if posterior probs are required, divide joint probs by evidence\n",
        "            evidence = scores.sum(axis=1)\n",
        "            for k in range(n_classes):\n",
        "                # normalize per row to estimate posterior\n",
        "                scores[:, k] /= evidence\n",
        "        return scores\n",
        "\n",
        "    def predict(self, x):\n",
        "        \"\"\"Return predicted labels.\"\"\"\n",
        "        scores = self.decision_function(x)\n",
        "        y_pred = np.argmax(scores, axis=1)\n",
        "        return y_pred\n",
        "\n"
      ],
      "execution_count": null,
      "outputs": []
    },
    {
      "cell_type": "markdown",
      "metadata": {
        "id": "GeNsEwMzQKWF"
      },
      "source": [
        "Let's now import some utility functions (whose implementation is discussed in other notebooks):\n",
        "- ```make_gaussian_dataset``` to generate a Gaussian dataset;\n",
        "- ```plot_dataset``` to scatter the data points on a bi-dimensional feature space;\n",
        "- ```plot_decision_regions``` to display the decision regions and boundaries of a classifier on a bi-dimensional feature space."
      ]
    },
    {
      "cell_type": "code",
      "metadata": {
        "id": "Rd5bGTlSOhcW"
      },
      "source": [
        "import matplotlib.pyplot as plt\n",
        "from matplotlib.colors import ListedColormap\n",
        "\n",
        "\n",
        "def make_gaussian_dataset(n, mu, cov):\n",
        "    \"\"\"\n",
        "    Creates a k-class d-dimensional Gaussian dataset.\n",
        "    :param n: vector containing the number of samples for each class\n",
        "    :param mu: matrix containing the mean vector for each class\n",
        "    :return: x,y, the gaussian dataset\n",
        "    \"\"\"\n",
        "\n",
        "    n = np.array(n)  # convert to np.array if list is passed as input\n",
        "    mu = np.array(mu)\n",
        "    cov = np.array(cov)\n",
        "\n",
        "    n_classes = mu.shape[0]  # number of classes\n",
        "    n_features = mu.shape[1]  # number of features\n",
        "    n_samples = n.sum()  # total number of samples\n",
        "\n",
        "    x = np.zeros(shape=(n_samples, n_features))\n",
        "    y = np.zeros(shape=(n_samples,))\n",
        "\n",
        "    start_index = 0\n",
        "    for k in range(n_classes):\n",
        "        x_tmp = mvn.rvs(mean=mu[k, :], cov=cov[k, :, :], size=n[k])\n",
        "        x[start_index:start_index + n[k], :] = x_tmp\n",
        "        y[start_index:start_index + n[k]] = k\n",
        "        start_index += n[k]\n",
        "\n",
        "    return x, y\n",
        "\n",
        "\n",
        "def plot_dataset(x, y, feat_1=0, feat_2=1):\n",
        "    n_classes = len(np.unique(y))\n",
        "    colors = ['r', 'b', 'g', 'k', 'c', 'm', 'y']\n",
        "\n",
        "    for y0 in range(n_classes):\n",
        "        x0 = x[y == y0, feat_1]  # y0 is the selected class within the loop\n",
        "        x1 = x[y == y0, feat_2]\n",
        "        plt.scatter(x0, x1, c=colors[y0], label='class ' + str(y0))\n",
        "    plt.legend()\n",
        "    plt.xlabel('feature x' + str(feat_1))\n",
        "    plt.ylabel('feature x' + str(feat_2))\n",
        "\n",
        "    return\n",
        "\n",
        "\n",
        "def plot_decision_regions(x, y, classifier, resolution=0.02):\n",
        "    # setup marker generator and color map\n",
        "    colors = ('red', 'blue', 'lightgreen', 'black', 'gray', 'cyan')\n",
        "    cmap = ListedColormap(colors[:len(np.unique(y))])\n",
        "\n",
        "    # plot the decision surface\n",
        "    x1_min, x1_max = x[:, 0].min() - 1, x[:, 0].max() + 1\n",
        "    x2_min, x2_max = x[:, 1].min() - 1, x[:, 1].max() + 1\n",
        "    xx1, xx2 = np.meshgrid(np.arange(x1_min, x1_max, resolution),\n",
        "                           np.arange(x2_min, x2_max, resolution))\n",
        "    Z = classifier.predict(np.array([xx1.ravel(), xx2.ravel()]).T)\n",
        "    Z = Z.reshape(xx1.shape)\n",
        "    plt.contourf(xx1, xx2, Z, alpha=0.4, cmap=cmap)\n",
        "    plt.xlim(xx1.min(), xx1.max())\n",
        "    plt.ylim(xx2.min(), xx2.max())\n",
        "\n",
        "    return\n"
      ],
      "execution_count": null,
      "outputs": []
    },
    {
      "cell_type": "markdown",
      "metadata": {
        "id": "9Cmyz_wxQ4DN"
      },
      "source": [
        "We can finally test our classifier and estimate the error numerically... But this is only an estimate of the true, Bayes error... So what's the correct value of the Bayes error obtained analytically?"
      ]
    },
    {
      "cell_type": "code",
      "metadata": {
        "id": "d6GijMuDOeXJ",
        "outputId": "38a2cd23-d358-4fbb-87c5-aaf7848f0098",
        "colab": {
          "base_uri": "https://localhost:8080/",
          "height": 620
        }
      },
      "source": [
        "n_samples = [10000, 10000]\n",
        "centroids = [[-1, 0],\n",
        "             [1, 0]]\n",
        "cov=[[[1, 0],\n",
        "      [0, 1]],\n",
        "     [[1, 0],\n",
        "      [0, 1]]]\n",
        "\n",
        "# generate data\n",
        "x_tr, y_tr = make_gaussian_dataset(n_samples, centroids, cov=cov)\n",
        "x_ts, y_ts = make_gaussian_dataset(n_samples, centroids, cov=cov)\n",
        "\n",
        "clf = CClassifierGaussian()\n",
        "clf.fit(x_tr, y_tr)\n",
        "plot_decision_regions(x_tr, y_tr, classifier=clf)\n",
        "plot_dataset(x_tr, y_tr)\n",
        "plt.show()\n",
        "\n",
        "scores = clf.decision_function(x_ts)\n",
        "y_pred = clf.predict(x_ts)\n",
        "\n",
        "print('Estimated priors: ', clf.priors)\n",
        "print('Estimated centroids (with MLE): ', clf.centroids)\n",
        "print('Estimated covariances (with MLE): ', clf.covariances)\n",
        "\n",
        "print('Test error (%): ', (y_pred != y_ts).mean()*100)\n",
        "\n"
      ],
      "execution_count": null,
      "outputs": [
        {
          "output_type": "display_data",
          "data": {
            "text/plain": [
              "<Figure size 640x480 with 1 Axes>"
            ],
            "image/png": "[encoded data removed]"
          },
          "metadata": {}
        },
        {
          "output_type": "stream",
          "name": "stdout",
          "text": [
            "Estimated priors:  [0.5 0.5]\n",
            "Estimated centroids (with MLE):  [[-1.01221402 -0.00434857]\n",
            " [ 1.00287205  0.00196621]]\n",
            "Estimated covariances (with MLE):  [[[ 0.98313876 -0.01036178]\n",
            "  [-0.01036178  0.9824378 ]]\n",
            "\n",
            " [[ 1.00518489 -0.01855164]\n",
            "  [-0.01855164  0.98958793]]]\n",
            "Test error (%):  15.58\n"
          ]
        }
      ]
    }
  ]
}