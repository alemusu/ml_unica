{
  "nbformat": 4,
  "nbformat_minor": 0,
  "metadata": {
    "colab": {
      "name": "minimax",
      "provenance": [],
      "collapsed_sections": [],
      "include_colab_link": true
    },
    "kernelspec": {
      "name": "python3",
      "display_name": "Python 3"
    },
    "pycharm": {
      "stem_cell": {
        "cell_type": "raw",
        "source": [],
        "metadata": {
          "collapsed": false
        }
      }
    }
  },
  "cells": [
    {
      "cell_type": "markdown",
      "metadata": {
        "id": "view-in-github",
        "colab_type": "text"
      },
      "source": [
        "<a href=\"https://colab.research.google.com/github/unica-ml/ml/blob/master/notebooks/minimax.ipynb\" target=\"_parent\"><img src=\"https://colab.research.google.com/assets/colab-badge.svg\" alt=\"Open In Colab\"/></a>"
      ]
    },
    {
      "cell_type": "markdown",
      "metadata": {
        "id": "zI8L4Wig_dLb",
        "colab_type": "text"
      },
      "source": [
        "# Minimax Risk Optimization\n",
        "\n",
        "This notebook solves Exercise 6 from [Part 2](https://github.com/unica-ml/ml/blob/master/exercises/ml-part-02-exercises.pdf).\n",
        "\n",
        "We aim to recognize two different kinds of network traffic: \n",
        "normal ($\\omega_1$) and intrusive ($\\omega_2$). \n",
        "We assume that each sample $x$ is represented with a single feature \n",
        "(numerical) value, and  that the likelihood of class $k$ \n",
        "(with $k=1,2$) is given as:\n",
        "\n",
        "$$\n",
        "\\begin{equation}\n",
        "p(x | \\omega_k) = \\mathcal N_k(x) = \\mathcal N(x | \\mu_k, \\sigma_k) =\n",
        "\\frac{1}{\\sqrt{2 \\pi} \\sigma_k} \n",
        "\\exp{\\left \n",
        "[-\\frac{1}{2} \\left (\\frac{x-\\mu_k}{\\sigma} \\right )^2 \n",
        "\\right ]}.\n",
        "\\end{equation}\n",
        "$$\n",
        "\n",
        "The parameters for the two classes are: $\\mu_1=0$, $\\mu_2=4$, and $\\sigma_1=\\sigma_2=1$. \n",
        "\n",
        "We suppose that *the prior probabilities are not available* (e.g. their estimation is not reliable, or they are time-variant, etc), while the cost matrix (predicted vs true class labels) is:\n",
        "\n",
        "$$\n",
        "\\begin{equation}\n",
        "\\Lambda = \n",
        "\\begin{bmatrix} \n",
        "\\lambda_{1,1} & \\lambda_{1,2} \\\\ \n",
        "\\lambda_{2,1} & \\lambda_{2,2}\n",
        "\\end{bmatrix} = \n",
        "\\begin{bmatrix} \n",
        "0 & 2 \\\\ \n",
        "1 & 0\n",
        "\\end{bmatrix}.\n",
        "\\end{equation}\n",
        "$$\n",
        "\n",
        "\n",
        "Find the decision regions (and the decision rule) using the minimax criterion (which minimizes the maximum worst-case risk).\n",
        "\n",
        "\n"
      ]
    },
    {
      "cell_type": "markdown",
      "metadata": {
        "id": "7lucQPwhB6Ms",
        "colab_type": "text"
      },
      "source": [
        "**Solution.** The total risk is given as:\n",
        "$R = \\int_{\\mathcal R_1} \\left ( \\lambda_{1,1} P_1 \\mathcal N_1 + \\lambda_{1,2} P_2 \\mathcal N_2 \\right) dx + \\int_{\\mathcal R_2}\\left(  \\lambda_{2,1} P_1 \\mathcal N_1 + \\lambda_{2,2} P_2 \\mathcal N_2\\right) dx$.\n",
        "\n",
        "\n",
        "By using the given costs $\\Lambda$ and noting that $P_1 = 1-P_2$, we can simplify it as: \n",
        "$R= 2 (1-P_1)\\int_{\\mathcal R_1}  \\mathcal N_2 dx + P_1 \\int_{\\mathcal R_2}  \\mathcal N_1  dx$.\n",
        "\n",
        "\n",
        "Reordering and making explicit that the decision regions are $\\mathcal R_1 = (-\\infty, a)$ and $\\mathcal R_2 = [a, +\\infty)$, we get:\n",
        "\n",
        "$$\n",
        "\\begin{equation}\n",
        "R(a, P_1)= 2\\int_{-\\infty}^a  \\mathcal N_2 dx + P_1 \\left [ \\int_{a}^\\infty  \\mathcal N_1  dx - 2\\int_{-\\infty}^a  \\mathcal N_2 dx\\right ] \\, ,\n",
        "\\end{equation}\n",
        "$$\n",
        "\n",
        "where we also made it explicit that $R$ depends on two variables, namely, the decision boundary $a$ and the prior probability $P_1$. The former captures the shape of the decision regions, while the latter characterizes the data distribution.\n",
        "\n",
        "For convenience, since $\\int_{a}^\\infty  \\mathcal N_1  dx = 1-\\int_{-\\infty}^a  \\mathcal N_1  dx$, the aforementioned risk function can be also written as:\n",
        "$R(a, P_1)= 2\\int_{-\\infty}^a  \\mathcal N_2 dx + P_1 \\left [ 1-\\int_{-\\infty}^a  \\mathcal N_1  dx - 2\\int_{-\\infty}^a  \\mathcal N_2 dx\\right ]$.\n",
        "\n",
        "The minimax-risk decision regions, that is, the value of $a$, can be computed then by imposing the derivative of this function w.r.t. $P_1$ equal to zero, which simply amounts to (numerically) solving the following equation:\n",
        "$ 1-\\int_{-\\infty}^a  \\mathcal N_1  dx - 2\\int_{-\\infty}^a  \\mathcal N_2 dx = 0$.\n"
      ]
    },
    {
      "cell_type": "code",
      "metadata": {
        "id": "uLS6o6e0G02k",
        "colab_type": "code",
        "outputId": "d9202077-dd22-4fc0-b018-88b0fab4145c",
        "colab": {
          "base_uri": "https://localhost:8080/",
          "height": 282
        }
      },
      "source": [
        "# finding the optimal value \"a*\"\n",
        "import numpy as np\n",
        "from scipy.stats import norm\n",
        "import matplotlib.pyplot as plt\n",
        "\n",
        "def grad_risk_p1(a):\n",
        "  '''This is the derivative of the risk taken w.r.t. P1.'''\n",
        "  return 1-norm.cdf(a,loc=mu1,scale=sigma1)-2*norm.cdf(a,loc=mu2,scale=sigma2)\n",
        "\n",
        "mu1=0\n",
        "mu2=4\n",
        "sigma1=1\n",
        "sigma2=1\n",
        "\n",
        "a=np.arange(-5, 5, step=0.001)\n",
        "grad_risk = grad_risk_p1(a)\n",
        "plt.plot(a, grad_risk)\n",
        "plt.plot(a, a*0, 'k')\n",
        "plt.show()\n",
        "\n",
        "#The optimal a* value lies at the intersection\n",
        "a_star = max(a[grad_risk >= 0])\n",
        "print('a*: ', np.round(a_star, decimals=4))"
      ],
      "execution_count": 0,
      "outputs": [
        {
          "output_type": "display_data",
          "data": {
            "image/png": "[encoded data removed]",
            "text/plain": [
              "<Figure size 432x288 with 1 Axes>"
            ]
          },
          "metadata": {
            "tags": []
          }
        },
        {
          "output_type": "stream",
          "text": [
            "a*:  1.853\n"
          ],
          "name": "stdout"
        }
      ]
    },
    {
      "cell_type": "markdown",
      "metadata": {
        "id": "4V63B7tcJmNt",
        "colab_type": "text"
      },
      "source": [
        "Thus, the decision regions are: $\\mathcal R_1 = (-\\infty, a^\\star)$ and $\\mathcal R_2 = [a^\\star, +\\infty)$, which means that we decide for $\\omega_1$ if $x < a^\\star$ and for $\\omega_2$ if $x \\geq a^\\star$."
      ]
    },
    {
      "cell_type": "markdown",
      "metadata": {
        "id": "dH8w8KKEKOyT",
        "colab_type": "text"
      },
      "source": [
        "**Extra on minimax risk optimization.** Now, one may wonder how to compute the optimal value $P^\\star_1$ that would allow us to compute the corresponding minimax threshold $\\theta^\\star$ on the likelihood ratio.\n",
        "\n",
        "Recall indeed that the minimum-risk decision rule is:\n",
        "$l(x) = \\frac{p(x|\\omega_1)}{p(x|\\omega_2)} \\gtrless\\theta = \\frac{\\lambda_{12}-\\lambda_{22}}{\\lambda_{21}-\\lambda_{11}}\\frac{P_2}{P_1}$. \n",
        "\n",
        "Thus, using the values in our exercise, the optimal minimax threshold would be given as $\\theta^\\star = 2\\frac{1-P^\\star_1}{P^\\star_1}$. However, to compute such value we will need to find $P^\\star_1$ corresponding to the optimal minimax solution.\n",
        "\n",
        "Before doing that, we would like to clarify the minimax problem formulation from the mathematical perspective, using the given exercise as a specific instance of its more general formulation.\n",
        "In general, the goal of minimax risk optimization is to find the decision regions (parametrized by $a$ in our case) that minimize the worst-case risk (maximized w.r.t. $P_1$). This is captured by the following optimization problem: \n",
        "\n",
        "$$\n",
        "\\begin{equation}\n",
        "\\min_a \\max_{P_1} R(a,P_1) = 2\\int_{-\\infty}^a  \\mathcal N_2 dx + P_1 \\left [ \\int_{a}^\\infty  \\mathcal N_1  dx - 2\\int_{-\\infty}^a  \\mathcal N_2 dx\\right ] \\, ,\n",
        "\\end{equation}\n",
        "$$\n",
        "\n",
        "where we also reported the explicit risk computation for our exercise.\n",
        "The risk $R$ is a function of two variables. So we can plot it in the two-dimensional space spanned by $a$ and $P_1$ using a colormap to denote the values of $R$ (along the third axis)."
      ]
    },
    {
      "cell_type": "code",
      "metadata": {
        "id": "XhL5gmQOr_xf",
        "colab_type": "code",
        "outputId": "b077566d-1d04-44e4-ac77-de55c6fd3cad",
        "colab": {
          "base_uri": "https://localhost:8080/",
          "height": 372
        }
      },
      "source": [
        "min_a = -5\n",
        "max_a = 5\n",
        "min_p1 = 0\n",
        "max_p1 = 1\n",
        "res = 0.1\n",
        "\n",
        "def R(p1, a, mu1, sigma1, mu2, sigma2):\n",
        "    # This function computes the risk\n",
        "    n1 = norm.cdf(a,loc=mu1,scale=sigma1)\n",
        "    n2 = norm.cdf(a,loc=mu2,scale=sigma2)\n",
        "    return 2 * n2 + p1 * (1-n1-2*n2)\n",
        "\n",
        "\n",
        "def plot_fun(fun, only_at_zero=False, min_x=-5, max_x=+5, min_y=-5, max_y=+5,\n",
        "             resolution=0.5, **kwargs):\n",
        "    xx1, xx2 = np.meshgrid(np.arange(min_x, max_x, resolution),\n",
        "                           np.arange(min_y, max_y, resolution))\n",
        "    x = np.array([xx1.ravel(), xx2.ravel()]).T\n",
        "    z = np.zeros(shape=(x.shape[0],))\n",
        "    for i in range(x.shape[0]):\n",
        "        z[i] = fun(x[i, 0], x[i, 1], **kwargs)\n",
        "    z = z.reshape(xx1.shape)\n",
        "    if not only_at_zero:\n",
        "        plt.contourf(xx1, xx2, z, 30, cmap='Blues')\n",
        "    else:\n",
        "        plt.contour(xx1, xx2, z, [0], colors=['k'])\n",
        "    plt.xlim(xx1.min(), xx1.max())\n",
        "    plt.ylim(xx2.min(), xx2.max())\n",
        "\n",
        "    return\n",
        "\n",
        "def find_min_R_a(min_p1, max_p1, min_a, max_a, res_p1, res_a, **kwargs):\n",
        "    \"\"\"\n",
        "    For each p1, compute a* that gives the minimum value of R(a,p1).\n",
        "    Then return the value of a* and R(a*, p1)\n",
        "    \"\"\"\n",
        "    p1_vals = np.arange(min_p1, max_p1+res_p1, res_p1)\n",
        "    a_vals = np.arange(min_a, max_a+res_a, res_a)\n",
        "    min_a_vals = np.zeros((p1_vals.size,), dtype=float)\n",
        "    min_r_vals = np.zeros((p1_vals.size,), dtype=float)\n",
        "\n",
        "    for i, p1 in enumerate(p1_vals):\n",
        "        r_vals = np.arange(a_vals.size, dtype=float)\n",
        "        for j, a in enumerate(a_vals):\n",
        "            r_vals[j] = R(p1, a, **kwargs)\n",
        "        min_r_vals[i] = r_vals.min()\n",
        "        min_a_vals[i] = a_vals[r_vals.argmin()]\n",
        "    return p1_vals, a_vals, min_a_vals, min_r_vals\n",
        "\n",
        "\n",
        "p1_vals, a_vals, min_a_vals, min_r_vals = find_min_R_a(\n",
        "    min_p1, max_p1, min_a, max_a, res_p1=0.01, res_a=0.01, \n",
        "    mu1=mu1, sigma1=sigma1, mu2=mu2, sigma2=sigma2)\n",
        "\n",
        "\n",
        "fig_size = plt.rcParams[\"figure.figsize\"]\n",
        "fig_size[0] = 12\n",
        "fig_size[1] = 5\n",
        "\n",
        "plt.subplot(1,2,1)\n",
        "plot_fun(R, False, min_p1, max_p1+res, min_a, max_a+res, \n",
        "         res, mu1=mu1, sigma1=sigma1, mu2=mu2, sigma2=sigma2)\n",
        "plt.colorbar()\n",
        "plt.grid()\n",
        "plt.plot(p1_vals, min_a_vals, c='k')\n",
        "plt.plot(p1_vals, [a_star] * p1_vals.size, c='r')\n",
        "plt.xlabel('p1', fontsize=12)\n",
        "plt.ylabel('a', fontsize=12)\n",
        "plt.title(\"R(a,p1)\")\n",
        "\n",
        "plt.subplot(1,2,2)\n",
        "\n",
        "# value of the minimax optimal risk:\n",
        "R_mm = 2 * norm.cdf(a_star,mu2,sigma2)\n",
        "print('Minimax risk: ', R_mm)\n",
        "\n",
        "plt.plot(p1_vals, min_r_vals, c='k')\n",
        "plt.plot(p1_vals, [R_mm] * p1_vals.size, c='r')\n",
        "plt.xlabel('p1', fontsize=12)\n",
        "plt.title(r\"$min_a R(a,p1)$\")\n",
        "\n",
        "plt.show()\n"
      ],
      "execution_count": 0,
      "outputs": [
        {
          "output_type": "stream",
          "text": [
            "Minimax risk:  0.03179328161556514\n"
          ],
          "name": "stdout"
        },
        {
          "output_type": "display_data",
          "data": {
            "image/png": "[encoded data removed]",
            "text/plain": [
              "<Figure size 864x360 with 3 Axes>"
            ]
          },
          "metadata": {
            "tags": []
          }
        }
      ]
    },
    {
      "cell_type": "markdown",
      "metadata": {
        "id": "tGbaGK6WsEUI",
        "colab_type": "text"
      },
      "source": [
        "\n",
        "\n",
        "As one can see from the leftmost plot, if we fix $a$, then the risk varies linearly as $P_1$ changes (the function varies linearly if we consider lines parallel to the x-axis), except when $a=a^\\star=1.853$ (red line). For this value, in fact, the risk remains constant and equal to:\n",
        "\n",
        "$\n",
        "\\begin{equation}\n",
        "R_{\\rm mm} = R(a^\\star, P_1) = 2\\int_{-\\infty}^{a^\\star}  \\mathcal N_2 dx + P_1 \\underbrace{\\left [ \\int_{a^\\star}^\\infty  \\mathcal N_1  dx - 2\\int_{-\\infty}^{a^\\star}  \\mathcal N_2 dx\\right ]}_{=0} = 2\\int_{-\\infty}^a  \\mathcal N_2 dx \\, .\n",
        "\\end{equation}\n",
        "$\n",
        "\n",
        "This is the minimax optimal risk.\n",
        "\n",
        "The black line in the rightmost plot shows the values of $\\min_a R(a, P^\\prime_1)$, i.e., the minimum risk for any fixed $P^\\prime_1$ value. These are the same values on the black line extrapolated from the leftmost plot. The red line shows instead the minimax risk $R_{\\rm mm}$ computed at $a^\\star$ and $P_1^\\star$, which basically bounds the worst possible value found along the black line.\n",
        "\n"
      ]
    },
    {
      "cell_type": "markdown",
      "metadata": {
        "id": "uHqNykiSdx--",
        "colab_type": "text"
      },
      "source": [
        "The goal now is to find not only the value of $a^\\star$ but also the optimal value of $P_1$, i.e., $P_1^\\star$, corresponding to the saddle point of the given problem.\n",
        "\n",
        "In our example, they can be find analytically by setting the first derivatives of $R$ equal to zero (we did this only w.r.t. $P_1$ when solving the exercise to find $a^\\star$ - but we need a second equation to find $P^\\star_1$).\n",
        "\n",
        "The derivatives are given as:\n",
        "\n",
        "$$\n",
        "\\begin{eqnarray}\n",
        "\\frac{\\partial R}{\\partial P_1} &=& 1-\\int_{-\\infty}^a  \\mathcal N_1(x)  dx - 2\\int_{-\\infty}^a  \\mathcal N_2(x) dx = 0 \\, , \\\\\n",
        "\\frac{\\partial R}{\\partial a} &=& 2 \\mathcal N_2(a) - P_1 \\left (\\mathcal N_1(a) +2\\mathcal N_2(a) \\right) = 0 \\, ,\n",
        "\\end{eqnarray}\n",
        "$$\n",
        "\n",
        "where we used the fact that $\\frac{\\partial }{\\partial x} \\int_{-\\infty}^{x} f(v) dv = f(x)$ to compute the derivative in the second equation.\n",
        "\n",
        "We know from the first equation that $a^\\star \\approxeq 1.853$ (via numerical solution). \n",
        "\n",
        "By replacing this value in the second equation, we can find $P_1^\\star = \\frac{2 \\mathcal N_2(a^\\star)}{\\mathcal N_1(a^\\star) +2\\mathcal N_2(a^\\star)}\\approxeq 0.526$, and the optimal threshold for the likelihood ratio $\\theta^\\star \\approxeq 1.80$.\n",
        "\n",
        "By imposing this threshold on the likelihood ratio, regardless of the priors, we will always observe a constant value of the risk (i.e., the worst-case one we computed before, $R_{\\rm mm} \\approxeq 0.032$)."
      ]
    },
    {
      "cell_type": "code",
      "metadata": {
        "id": "rfVFbMyJJyeg",
        "colab_type": "code",
        "outputId": "89775cf2-f22b-4830-eed5-acffdd5653e2",
        "colab": {
          "base_uri": "https://localhost:8080/",
          "height": 51
        }
      },
      "source": [
        "n1 = norm.pdf(a_star, mu1, sigma1)\n",
        "n2 = norm.pdf(a_star, mu2, sigma2)\n",
        "\n",
        "p1_star = 2.0 * n2 / (n1+2.0*n2)\n",
        "print(\"P_1*: \", p1_star)\n",
        "\n",
        "theta_star = 2.0*(1-p1_star)/p1_star\n",
        "print(\"theta*: \", theta_star)"
      ],
      "execution_count": 0,
      "outputs": [
        {
          "output_type": "stream",
          "text": [
            "P_1*:  0.5262626031420929\n",
            "theta*:  1.8003840441232952\n"
          ],
          "name": "stdout"
        }
      ]
    }
  ]
}