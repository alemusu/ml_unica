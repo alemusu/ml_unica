{
  "nbformat": 4,
  "nbformat_minor": 0,
  "metadata": {
    "colab": {
      "provenance": [],
      "authorship_tag": "ABX9TyNZI5y9UsYXp1WZ1r/raSBb",
      "include_colab_link": true
    },
    "kernelspec": {
      "name": "python3",
      "display_name": "Python 3"
    },
    "language_info": {
      "name": "python"
    }
  },
  "cells": [
    {
      "cell_type": "markdown",
      "metadata": {
        "id": "view-in-github",
        "colab_type": "text"
      },
      "source": [
        "<a href=\"https://colab.research.google.com/github/unica-ml/ml/blob/master/notebooks/ml07_clustering_exercises.ipynb\" target=\"_parent\"><img src=\"https://colab.research.google.com/assets/colab-badge.svg\" alt=\"Open In Colab\"/></a>"
      ]
    },
    {
      "cell_type": "markdown",
      "source": [
        "# Exercises on Data Clustering\n",
        "\n",
        "Let's start by importing some utility functions."
      ],
      "metadata": {
        "id": "jKlWh07PSj0h"
      }
    },
    {
      "cell_type": "code",
      "source": [
        "import matplotlib.pyplot as plt\n",
        "from matplotlib.colors import ListedColormap\n",
        "\n",
        "\n",
        "def plot_dataset(x, y, feat_1=0, feat_2=1, color=None):\n",
        "    n_classes = len(np.unique(y))\n",
        "    colors = ['r', 'b', 'g', 'k', 'c', 'm', 'y']\n",
        "\n",
        "    for y0 in range(n_classes):\n",
        "        x0 = x[y == y0, feat_1]  # y0 is the selected class within the loop\n",
        "        x1 = x[y == y0, feat_2]\n",
        "        if color is None:\n",
        "            plt.scatter(x0, x1, c=colors[y0], label='class ' + str(y0))\n",
        "        else:\n",
        "            plt.scatter(x0, x1, c=color, label='class ' + str(y0))\n",
        "    plt.legend()\n",
        "    plt.xlabel('feature x' + str(feat_1))\n",
        "    plt.ylabel('feature x' + str(feat_2))\n",
        "\n",
        "    return\n",
        "\n",
        "\n",
        "def plot_decision_regions(x, y, classifier, resolution=0.02):\n",
        "    # setup marker generator and color map\n",
        "    colors = ('red', 'blue', 'lightgreen', 'black', 'gray', 'cyan')\n",
        "    cmap = ListedColormap(colors[:len(np.unique(y))])\n",
        "\n",
        "    # plot the decision surface\n",
        "    x1_min, x1_max = x[:, 0].min() - 1, x[:, 0].max() + 1\n",
        "    x2_min, x2_max = x[:, 1].min() - 1, x[:, 1].max() + 1\n",
        "    xx1, xx2 = np.meshgrid(np.arange(x1_min, x1_max, resolution),\n",
        "                           np.arange(x2_min, x2_max, resolution))\n",
        "    Z = classifier.predict(np.array([xx1.ravel(), xx2.ravel()]).T)\n",
        "    Z = Z.reshape(xx1.shape)\n",
        "    plt.contourf(xx1, xx2, Z, alpha=0.4, cmap=cmap)\n",
        "    plt.xlim(xx1.min(), xx1.max())\n",
        "    plt.ylim(xx2.min(), xx2.max())\n",
        "\n",
        "    return"
      ],
      "metadata": {
        "id": "w8-5DdfoEGJp"
      },
      "execution_count": 80,
      "outputs": []
    },
    {
      "cell_type": "markdown",
      "source": [
        "##Exercise 1\n",
        "\n",
        "Cluster the bi-dimensional data points given below as $X$ using KMeans and single-linkage clustering.\n",
        "Use the Euclidean distance to compute pairwise distances between samples, and initialize the centroids as given below for KMeans."
      ],
      "metadata": {
        "id": "m3fCQb2fSsF9"
      }
    },
    {
      "cell_type": "code",
      "execution_count": 81,
      "metadata": {
        "colab": {
          "base_uri": "https://localhost:8080/",
          "height": 540
        },
        "id": "vztdDZVaCip1",
        "outputId": "c74d0f74-34b4-4ffa-928a-655f0203e665"
      },
      "outputs": [
        {
          "output_type": "stream",
          "name": "stdout",
          "text": [
            "Clustering assignments:  [0 0 0 1 1 1]\n",
            "Centroids: \n",
            " [[0.66666667 0.66666667]\n",
            " [4.         1.        ]]\n"
          ]
        },
        {
          "output_type": "display_data",
          "data": {
            "text/plain": [
              "<Figure size 640x480 with 1 Axes>"
            ],
            "image/png": "[encoded data removed]"
          },
          "metadata": {}
        }
      ],
      "source": [
        "import numpy as np\n",
        "from sklearn.cluster import KMeans\n",
        "\n",
        "X = np.array([[1, 1],\n",
        "              [1, 0],\n",
        "              [0, 1],\n",
        "              [5, 0],\n",
        "              [4, 1],\n",
        "              [3, 2]])\n",
        "\n",
        "centroids = np.array([[0.0, 0.0],[2.0, 1.0]])\n",
        "\n",
        "kmeans = KMeans(n_clusters=2, n_init=1, init=centroids).fit(X)\n",
        "print(\"Clustering assignments: \", kmeans.labels_)\n",
        "print(\"Centroids: \\n\", kmeans.cluster_centers_)\n",
        "\n",
        "plot_decision_regions(X, kmeans.labels_, kmeans)\n",
        "plot_dataset(X, kmeans.labels_)\n",
        "plot_dataset(kmeans.cluster_centers_, np.unique(kmeans.labels_), color='k')\n"
      ]
    },
    {
      "cell_type": "markdown",
      "source": [
        "Let's solve it step by step. First, we compute distances between samples in $X$ vs centroids in $\\mu$."
      ],
      "metadata": {
        "id": "DlMbOZLnYI2-"
      }
    },
    {
      "cell_type": "code",
      "source": [
        "print(\"Distance to centroid 0: \", np.linalg.norm(X-centroids[0,:],axis=1)**2)\n",
        "print(\"Distance to centroid 1: \", np.linalg.norm(X-centroids[1,:],axis=1)**2)"
      ],
      "metadata": {
        "colab": {
          "base_uri": "https://localhost:8080/"
        },
        "id": "DQgg_wE8Xz_U",
        "outputId": "38aaa47a-32ef-4921-c34a-ab44f275c9e4"
      },
      "execution_count": 82,
      "outputs": [
        {
          "output_type": "stream",
          "name": "stdout",
          "text": [
            "Distance to centroid 0:  [ 2.  1.  1. 25. 17. 13.]\n",
            "Distance to centroid 1:  [ 1.  2.  4. 10.  4.  2.]\n"
          ]
        }
      ]
    },
    {
      "cell_type": "markdown",
      "source": [
        "So, we need to form two clusters as\n",
        "$C_0 = \\{\\mathbf x_1, \\mathbf x_2 \\}$ and $C_1 = \\{\\mathbf x_0, \\mathbf x_3 , \\mathbf x_4, \\mathbf x_5 \\}$.\n",
        "\n",
        "Let's recompute the centroids:"
      ],
      "metadata": {
        "id": "Yn6f0dpRY_Bx"
      }
    },
    {
      "cell_type": "code",
      "source": [
        "centroids[0,:] = np.mean(X[[1,2],:],axis=0)\n",
        "centroids[1,:] = np.mean(X[[0,3,4,5],:],axis=0)\n",
        "print(\"Updated centroids: \\n\", centroids)"
      ],
      "metadata": {
        "colab": {
          "base_uri": "https://localhost:8080/"
        },
        "id": "SjcxqTsQY-S3",
        "outputId": "7a489138-827a-4ea5-feb6-f275822f7539"
      },
      "execution_count": 83,
      "outputs": [
        {
          "output_type": "stream",
          "name": "stdout",
          "text": [
            "Updated centroids: \n",
            " [[0.5  0.5 ]\n",
            " [3.25 1.  ]]\n"
          ]
        }
      ]
    },
    {
      "cell_type": "markdown",
      "source": [
        "We recompute distances to centroids, and re-update them:"
      ],
      "metadata": {
        "id": "dc8El8o6Z8s3"
      }
    },
    {
      "cell_type": "code",
      "source": [
        "print(\"Distance to centroid 0: \", np.round(np.linalg.norm(X-centroids[0,:],axis=1)**2, 2))\n",
        "print(\"Distance to centroid 1: \", np.round(np.linalg.norm(X-centroids[1,:],axis=1)**2, 2))"
      ],
      "metadata": {
        "colab": {
          "base_uri": "https://localhost:8080/"
        },
        "id": "a1xqTcwJZ-iv",
        "outputId": "33a513e1-e311-463a-b795-454d4e95f8c8"
      },
      "execution_count": 84,
      "outputs": [
        {
          "output_type": "stream",
          "name": "stdout",
          "text": [
            "Distance to centroid 0:  [ 0.5  0.5  0.5 20.5 12.5  8.5]\n",
            "Distance to centroid 1:  [ 5.06  6.06 10.56  4.06  0.56  1.06]\n"
          ]
        }
      ]
    },
    {
      "cell_type": "markdown",
      "source": [
        "The first point needs to be moved to the first centroid..."
      ],
      "metadata": {
        "id": "CQ5Nt4EnaSGL"
      }
    },
    {
      "cell_type": "code",
      "source": [
        "centroids[0,:] = np.mean(X[[0,1,2],:],axis=0)\n",
        "centroids[1,:] = np.mean(X[[3,4,5],:],axis=0)\n",
        "print(\"Updated centroids: \\n\", centroids)"
      ],
      "metadata": {
        "colab": {
          "base_uri": "https://localhost:8080/"
        },
        "id": "lebOVwIvaMhr",
        "outputId": "025124ec-7b2a-401a-d6f7-e0d2cc7fba30"
      },
      "execution_count": 85,
      "outputs": [
        {
          "output_type": "stream",
          "name": "stdout",
          "text": [
            "Updated centroids: \n",
            " [[0.66666667 0.66666667]\n",
            " [4.         1.        ]]\n"
          ]
        }
      ]
    },
    {
      "cell_type": "markdown",
      "source": [
        "We verify now that the assignments do not change anymore, so convergence is reached."
      ],
      "metadata": {
        "id": "BOMk072mbseH"
      }
    },
    {
      "cell_type": "code",
      "source": [
        "print(\"Distance to centroid 0: \", np.round(np.linalg.norm(X-centroids[0,:],axis=1)**2, 2))\n",
        "print(\"Distance to centroid 1: \", np.round(np.linalg.norm(X-centroids[1,:],axis=1)**2, 2))"
      ],
      "metadata": {
        "colab": {
          "base_uri": "https://localhost:8080/"
        },
        "id": "6xVG347VbccS",
        "outputId": "1b281ecc-c5e1-4f1e-9ed6-60e828f1a091"
      },
      "execution_count": 86,
      "outputs": [
        {
          "output_type": "stream",
          "name": "stdout",
          "text": [
            "Distance to centroid 0:  [ 0.22  0.56  0.56 19.22 11.22  7.22]\n",
            "Distance to centroid 1:  [ 9. 10. 16.  2.  0.  2.]\n"
          ]
        }
      ]
    },
    {
      "cell_type": "markdown",
      "source": [
        "We now solve the same clustering problem using single-linkage."
      ],
      "metadata": {
        "id": "qsZOPsBkYi3m"
      }
    },
    {
      "cell_type": "code",
      "source": [
        "from sklearn.cluster import AgglomerativeClustering\n",
        "\n",
        "metric=\"l2\"\n",
        "linkage=\"single\"\n",
        "\n",
        "cl = AgglomerativeClustering(\n",
        "    n_clusters=2, metric=metric, linkage=linkage).fit(X)\n",
        "\n",
        "print(\"Clustering assignments: \", cl.labels_)\n"
      ],
      "metadata": {
        "colab": {
          "base_uri": "https://localhost:8080/"
        },
        "id": "Cc4AQV5rGAWN",
        "outputId": "7d34100e-5c23-4d9c-8e8f-f9c9c0712cf7"
      },
      "execution_count": 87,
      "outputs": [
        {
          "output_type": "stream",
          "name": "stdout",
          "text": [
            "Clustering assignments:  [1 1 1 0 0 0]\n"
          ]
        }
      ]
    },
    {
      "cell_type": "markdown",
      "source": [
        "The result is the same as before. This code below plots the **dendrogram** for the single-linkage clustering."
      ],
      "metadata": {
        "id": "2UOo4jNUTZnb"
      }
    },
    {
      "cell_type": "code",
      "source": [
        "from scipy.cluster.hierarchy import dendrogram\n",
        "\n",
        "\n",
        "def plot_dendrogram(model, **kwargs):\n",
        "    # Create linkage matrix and then plot the dendrogram\n",
        "\n",
        "    # create the counts of samples under each node\n",
        "    counts = np.zeros(model.children_.shape[0])\n",
        "    n_samples = len(model.labels_)\n",
        "    for i, merge in enumerate(model.children_):\n",
        "        current_count = 0\n",
        "        for child_idx in merge:\n",
        "            if child_idx < n_samples:\n",
        "                current_count += 1  # leaf node\n",
        "            else:\n",
        "                current_count += counts[child_idx - n_samples]\n",
        "        counts[i] = current_count\n",
        "\n",
        "    linkage_matrix = np.column_stack(\n",
        "        [model.children_, model.distances_, counts]\n",
        "    ).astype(float)\n",
        "\n",
        "    # Plot the corresponding dendrogram\n",
        "    dendrogram(linkage_matrix, **kwargs)\n",
        "\n",
        "\n",
        "model = AgglomerativeClustering(\n",
        "    distance_threshold=0, n_clusters=None,\n",
        "    metric=metric, linkage=linkage).fit(X)\n",
        "\n",
        "plt.title(\"Hierarchical Clustering Dendrogram\")\n",
        "# plot the top three levels of the dendrogram\n",
        "plot_dendrogram(model, truncate_mode=\"level\", p=3)\n",
        "plt.xlabel(\"Number of points in node (or index of point if no parenthesis).\")\n",
        "plt.show()\n"
      ],
      "metadata": {
        "colab": {
          "base_uri": "https://localhost:8080/",
          "height": 496
        },
        "id": "TMTcFSMjHKxQ",
        "outputId": "ea1ca375-4ac2-47b8-cf5c-4c23664636df"
      },
      "execution_count": 88,
      "outputs": [
        {
          "output_type": "display_data",
          "data": {
            "text/plain": [
              "<Figure size 640x480 with 1 Axes>"
            ],
            "image/png": "[encoded data removed]"
          },
          "metadata": {}
        }
      ]
    },
    {
      "cell_type": "markdown",
      "source": [
        "## Exercise 2\n",
        "\n",
        "Consider the clustering partitions obtained by the KMeans algorithm, where the first three points are in the first cluster, and the last three ones in the second cluster. Evaluate the performance metrics:\n",
        "\n",
        "$J_e = \\sum_i \\sum_k \\| \\mathbf x_i - \\mathbf \\mu_k \\|^2$\n",
        "\n",
        "$J_d = det(S_w)$, where $S_w = \\sum_k (\\mathbf x - \\mathbf \\mu_k)(\\mathbf x - \\mathbf \\mu_k)^T$\n",
        "\n",
        "Re-evaluate the same metrics after assigning the last point to the first cluster.\n",
        "\n",
        "\n",
        "\n"
      ],
      "metadata": {
        "id": "_IZXo1O_TxQU"
      }
    },
    {
      "cell_type": "code",
      "source": [
        "X = np.array([[1, 1],\n",
        "              [1, 0],\n",
        "              [0, 1],\n",
        "              [5, 0],\n",
        "              [4, 1],\n",
        "              [3, 2]])\n",
        "\n",
        "centroids = np.array([[0, 0],[2, 2]])\n",
        "kmeans = KMeans(n_clusters=2, n_init=1, init=centroids).fit(X)\n",
        "print(\"Clustering assignments: \", kmeans.labels_)\n",
        "print(\"Centroids: \\n\", kmeans.cluster_centers_)\n",
        "plot_decision_regions(X, kmeans.labels_, kmeans)\n",
        "plot_dataset(X, kmeans.labels_)\n",
        "plot_dataset(kmeans.cluster_centers_, np.unique(kmeans.labels_), color='k')\n",
        "\n",
        "# evaluate metrics\n",
        "Je = 0\n",
        "Sw = np.zeros(shape=(X.shape[1], X.shape[1]))\n",
        "for k in range(kmeans.cluster_centers_.shape[0]):\n",
        "    v = X[kmeans.labels_==k,:]-kmeans.cluster_centers_[k,:]\n",
        "    Je += np.linalg.norm(v)**2\n",
        "    Sw += v.T.dot(v)\n",
        "\n",
        "print(\"Je: \", Je)\n",
        "print(\"Sw: \\n\", Sw)\n",
        "print(\"det(Sw): \", np.linalg.det(Sw))"
      ],
      "metadata": {
        "colab": {
          "base_uri": "https://localhost:8080/",
          "height": 628
        },
        "id": "Q-pbyEybUzWv",
        "outputId": "743a6425-9e8c-4d47-d0f2-fe9f8cac2467"
      },
      "execution_count": 89,
      "outputs": [
        {
          "output_type": "stream",
          "name": "stdout",
          "text": [
            "Clustering assignments:  [0 0 0 1 1 1]\n",
            "Centroids: \n",
            " [[0.66666667 0.66666667]\n",
            " [4.         1.        ]]\n",
            "Je:  5.333333333333334\n",
            "Sw: \n",
            " [[ 2.66666667 -2.33333333]\n",
            " [-2.33333333  2.66666667]]\n",
            "det(Sw):  1.6666666666666654\n"
          ]
        },
        {
          "output_type": "display_data",
          "data": {
            "text/plain": [
              "<Figure size 640x480 with 1 Axes>"
            ],
            "image/png": "[encoded data removed]"
          },
          "metadata": {}
        }
      ]
    },
    {
      "cell_type": "code",
      "source": [
        "# Re-run when x6 is shifted to the first cluster (we change init centroids):\n",
        "\n",
        "centroids = np.array([[0, 0],[1, 1]])\n",
        "kmeans = KMeans(n_clusters=2, n_init=1, init=centroids).fit(X)\n",
        "print(\"Clustering assignments: \", kmeans.labels_)\n",
        "print(\"Centroids: \\n\", kmeans.cluster_centers_)\n",
        "plot_decision_regions(X, kmeans.labels_, kmeans)\n",
        "plot_dataset(X, kmeans.labels_)\n",
        "plot_dataset(kmeans.cluster_centers_, np.unique(kmeans.labels_), color='k')\n",
        "\n",
        "# evaluate metrics\n",
        "Je = 0\n",
        "Sw = np.zeros(shape=(X.shape[1], X.shape[1]))\n",
        "for k in range(kmeans.cluster_centers_.shape[0]):\n",
        "    v = X[kmeans.labels_==k,:]-kmeans.cluster_centers_[k,:]\n",
        "    Je += np.linalg.norm(v)**2\n",
        "    Sw += v.T.dot(v)\n",
        "\n",
        "print(\"Je: \", Je)\n",
        "print(\"Sw: \\n\", Sw)\n",
        "print(\"det(Sw): \", np.linalg.det(Sw))"
      ],
      "metadata": {
        "colab": {
          "base_uri": "https://localhost:8080/",
          "height": 628
        },
        "id": "yFTOeXAXW-QA",
        "outputId": "d16f245a-639a-4643-8a26-506768966fc7"
      },
      "execution_count": 90,
      "outputs": [
        {
          "output_type": "stream",
          "name": "stdout",
          "text": [
            "Clustering assignments:  [1 1 1 0 0 1]\n",
            "Centroids: \n",
            " [[4.5  0.5 ]\n",
            " [1.25 1.  ]]\n",
            "Je:  7.75\n",
            "Sw: \n",
            " [[5.25 1.5 ]\n",
            " [1.5  2.5 ]]\n",
            "det(Sw):  10.875000000000002\n"
          ]
        },
        {
          "output_type": "display_data",
          "data": {
            "text/plain": [
              "<Figure size 640x480 with 1 Axes>"
            ],
            "image/png": "[encoded data removed]"
          },
          "metadata": {}
        }
      ]
    },
    {
      "cell_type": "markdown",
      "source": [
        "The criterion functions show consistent results, indicating that the first division is better."
      ],
      "metadata": {
        "id": "7SwfDesfXTsY"
      }
    }
  ]
}