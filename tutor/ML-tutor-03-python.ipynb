{
  "nbformat": 4,
  "nbformat_minor": 0,
  "metadata": {
    "colab": {
      "name": "ML-tutor-02.ipynb",
      "provenance": [],
      "collapsed_sections": []
    },
    "kernelspec": {
      "name": "python3",
      "display_name": "Python 3"
    },
    "language_info": {
      "name": "python"
    }
  },
  "cells": [
    {
      "cell_type": "code",
      "metadata": {
        "id": "oEKDiITIKkA2"
      },
      "source": [
        "import numpy as np"
      ],
      "execution_count": null,
      "outputs": []
    },
    {
      "cell_type": "code",
      "metadata": {
        "id": "wAMQQmejMUiY"
      },
      "source": [
        "a_1 = np.array((1.1, 1.3))  # 1 x 2\n",
        "a_2 = np.array((1.7, 1.4))\n",
        "a_3 = np.array((1.2, 2.0))\n",
        "a_4 = np.array((1.6, 1.9))\n",
        "\n",
        "b_1 = np.array((2.7, 1.4))\n",
        "b_2 = np.array((2.6, 1.2))\n",
        "b_3 = np.array((2.2, 2.0))\n",
        "b_4 = np.array((2.2, 1.3))\n",
        "\n",
        "c_1 = np.array((1.4, 2.5))\n",
        "c_2 = np.array((1.2, 2.4))\n",
        "c_3 = np.array((1.8, 2.6))\n",
        "c_4 = np.array((1.5, 2.9))\n",
        "\n",
        "x_t = np.array((2, 2))"
      ],
      "execution_count": null,
      "outputs": []
    },
    {
      "cell_type": "code",
      "metadata": {
        "id": "V37kYWAUNHy8"
      },
      "source": [
        "def euclidean_distance(x1, x2):\n",
        "    d = np.sqrt((x1[0]- x2[0])**2 + (x1[1] - x2[1])**2)\n",
        "    return d\n",
        "\n",
        "def manhattan_distance(x1, x2):\n",
        "    d = abs(x1[0] - x2[0]) + abs(x1[1] - x2[1])\n",
        "    return d\n",
        "\n"
      ],
      "execution_count": null,
      "outputs": []
    },
    {
      "cell_type": "code",
      "metadata": {
        "id": "ntEDf1x6UZyR",
        "colab": {
          "base_uri": "https://localhost:8080/",
          "height": 639
        },
        "outputId": "b32b5b28-c428-4da5-a16d-a946ff8060b8"
      },
      "source": [
        "# TODO plot the samples\n",
        "import matplotlib.pyplot as plt\n",
        "\n",
        "ds_x = np.vstack((a_1, a_2, a_3, a_4, b_1, b_2, b_3, b_4, c_1, c_2, c_3, c_4))  # 12 x 2\n",
        "ds_y = np.array((0, 0, 0, 0, 1, 1, 1, 1, 2, 2, 2, 2)) # 12 values\n",
        "\n",
        "print(ds_x.shape, ds_y.shape)\n",
        "\n",
        "# plt.scatter(ds_x[:, 0], ds_x[:, 1])\n",
        "cls_a = ds_x[ds_y==0, :]  # 4 x 2\n",
        "cls_b = ds_x[ds_y==1, :]\n",
        "cls_c = ds_x[ds_y==2, :]\n",
        "\n",
        "plt.figure(figsize=(10, 10))\n",
        "\n",
        "# scatter points for each class\n",
        "plt.scatter(cls_a[:, 0], cls_a[:, 1], c='b', label='class A')\n",
        "plt.scatter(cls_b[:, 0], cls_b[:, 1], c='r', label='class B')\n",
        "plt.scatter(cls_c[:, 0], cls_c[:, 1], c='g', label='class C')\n",
        "\n",
        "plt.scatter(x_t[0], x_t[1], c='k', marker='*', label='x_t')\n",
        "\n",
        "plt.title(\"dataset\")\n",
        "plt.xlabel(\"feature 1\")\n",
        "plt.ylabel(\"feature 2\")\n",
        "plt.legend()\n",
        "\n",
        "plt.show()\n",
        "\n"
      ],
      "execution_count": null,
      "outputs": [
        {
          "output_type": "stream",
          "text": [
            "(12, 2) (12,)\n"
          ],
          "name": "stdout"
        },
        {
          "output_type": "display_data",
          "data": {
            "image/png": "[encoded data removed]",
            "text/plain": [
              "<Figure size 720x720 with 1 Axes>"
            ]
          },
          "metadata": {
            "tags": [],
            "needs_background": "light"
          }
        }
      ]
    },
    {
      "cell_type": "code",
      "metadata": {
        "id": "6PsTpRLiNf5U",
        "colab": {
          "base_uri": "https://localhost:8080/"
        },
        "outputId": "21a8a333-7e4a-4172-b9dd-d17ff27a955e"
      },
      "source": [
        "# TODO classify the pattern x_t with a k-NN with k = 1, 2, 3, 4\n",
        "import scipy.stats\n",
        "for k in [1, 2, 3, 4]:\n",
        "    distances = np.zeros(12)\n",
        "    for point_idx in range(ds_x.shape[0]):\n",
        "        x_i = ds_x[point_idx, :]\n",
        "        distances[point_idx] = euclidean_distance(x_t, x_i)\n",
        "        ranked_distances = np.argsort(distances)\n",
        "        labels_argsort = ds_y[ranked_distances][:k]\n",
        "        most_frequent = scipy.stats.mode(labels_argsort)[0]\n",
        "    print(k, most_frequent)"
      ],
      "execution_count": null,
      "outputs": [
        {
          "output_type": "stream",
          "text": [
            "1 [1]\n",
            "2 [0]\n",
            "3 [0]\n",
            "4 [0]\n"
          ],
          "name": "stdout"
        }
      ]
    },
    {
      "cell_type": "code",
      "metadata": {
        "id": "XYQALkfQNv6O",
        "colab": {
          "base_uri": "https://localhost:8080/"
        },
        "outputId": "b48e2211-f6cb-4cb7-dc61-3ac06b75166a"
      },
      "source": [
        "# TODO use the leave-one-out method to select the best value of k\n",
        "\n",
        "for k in [1, 2, 3, 4, 5, 6]:\n",
        "    distances = np.zeros((12, 12))\n",
        "    for row_idx in range(ds_x.shape[0]):\n",
        "        for col_idx in range(ds_x.shape[0]):\n",
        "            distances[row_idx, col_idx] = euclidean_distance(ds_x[row_idx, :], ds_x[col_idx, :])\n",
        "    ranked_distances = np.argsort(distances, axis=0)\n",
        "    labels_argsort = ds_y[ranked_distances][1:k+1]\n",
        "    most_frequent = scipy.stats.mode(labels_argsort)[0][0]\n",
        "    correct = ds_y == most_frequent\n",
        "    correct = correct.sum()\n",
        "    print(k, correct)\n"
      ],
      "execution_count": null,
      "outputs": [
        {
          "output_type": "stream",
          "text": [
            "1 10\n",
            "2 10\n",
            "3 10\n",
            "4 12\n",
            "5 11\n",
            "6 9\n"
          ],
          "name": "stdout"
        }
      ]
    }
  ]
}